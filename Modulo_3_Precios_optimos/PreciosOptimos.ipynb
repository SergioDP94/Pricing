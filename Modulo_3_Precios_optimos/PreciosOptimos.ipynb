{
  "nbformat": 4,
  "nbformat_minor": 0,
  "metadata": {
    "colab": {
      "provenance": []
    },
    "kernelspec": {
      "name": "python3",
      "display_name": "Python 3"
    },
    "language_info": {
      "name": "python"
    }
  },
  "cells": [
    {
      "cell_type": "markdown",
      "source": [
        "# Optimización de precios"
      ],
      "metadata": {
        "id": "HGVy5UzOrY1j"
      }
    },
    {
      "cell_type": "markdown",
      "source": [
        "Autor: Sergio Diaz Paredes\n",
        "\n",
        "Contacto: [Linkedin](https://www.linkedin.com/in/sergio-diaz-paredes/)"
      ],
      "metadata": {
        "id": "IYq1TmXi4nEy"
      }
    },
    {
      "cell_type": "markdown",
      "source": [
        "## Caso\n",
        "\n",
        "En el contexto de la distribución de yogures artesanales, la empresa ha logrado determinar un precio óptimo de venta basado en la elasticidad de la demanda y su capacidad para maximizar los ingresos. Sin embargo, recientemente el proveedor ha solicitado un reajuste en el precio por el cual la empresa distribuidora compra los yogures, lo que afectará directamente la estructura de costos de la empresa. Este reajuste se basa en un esquema de costos escalonados, donde el precio unitario de compra del yogurt varía según la cantidad mensual adquirida:\n",
        "\n",
        "- Si se compran al menos 2,000 unidades, el precio unitario será de 3.7 soles.\n",
        "- Si se compran al menos 5,000 unidades, el precio unitario será de 3.2 soles.\n",
        "- Si se compran al menos 8,000 unidades, el precio unitario será de 2.5 soles.\n",
        "\n",
        "El desafío ahora es analizar cómo estos cambios en el costo unitario afectan los beneficios de la empresa, tomando en cuenta los diferentes tramos de precios y su impacto en la cantidad demandada de yogurt. Este análisis se llevará a cabo utilizando una función de demanda estimada, la cual se basa en un modelo logarítmico que refleja la relación entre el precio de venta y la cantidad demandada.\n",
        "\n",
        "El objetivo principal de este análisis es optimizar los beneficios de la empresa a partir de la función de demanda y el costo unitario, considerando los siguientes factores clave:\n",
        "\n",
        "1. **Meta de ventas realista**: Se busca determinar un volumen de ventas mensual que sea alcanzable según las condiciones del mercado, teniendo en cuenta las variaciones en el costo unitario.\n",
        "2. **Pronóstico de ventas**: Se realizará un pronóstico de ventas para los próximos 30 días, con base en la función de demanda y el precio de venta óptimo.\n",
        "3. **Cálculo de ingresos y beneficios**: Finalmente, se calcularán los ingresos y beneficios esperados bajo diferentes escenarios de costo unitario, con el fin de identificar cuál estrategia de compra es más rentable para la empresa distribuidora."
      ],
      "metadata": {
        "id": "MatvgH4tv78-"
      }
    },
    {
      "cell_type": "markdown",
      "source": [
        "## Paquetes"
      ],
      "metadata": {
        "id": "2bxN6g3nsVo8"
      }
    },
    {
      "cell_type": "code",
      "execution_count": 1,
      "metadata": {
        "id": "mLwg4TPMrCRY"
      },
      "outputs": [],
      "source": [
        "import pandas as pd\n",
        "import numpy as np\n",
        "import matplotlib.pyplot as plt\n",
        "import statsmodels.formula.api as smf\n",
        "import seaborn as sns\n",
        "from scipy.optimize import minimize_scalar\n",
        "from scipy.optimize import minimize"
      ]
    },
    {
      "cell_type": "code",
      "source": [
        "link = \"https://raw.githubusercontent.com/SergioDP94/Pricing/refs/heads/main/Data/elasticidad.csv\"\n",
        "data = pd.read_csv(link, parse_dates=['fecha'])\n",
        "data.head()"
      ],
      "metadata": {
        "colab": {
          "base_uri": "https://localhost:8080/",
          "height": 206
        },
        "id": "OsxK3RuOTGnN",
        "outputId": "0bddb5ae-d22f-4039-c8c4-e42fefeb68fc"
      },
      "execution_count": 2,
      "outputs": [
        {
          "output_type": "execute_result",
          "data": {
            "text/plain": [
              "       fecha  precio  cantidad\n",
              "0 2018-01-01     7.8       516\n",
              "1 2018-01-02     7.8       424\n",
              "2 2018-01-03     7.8       334\n",
              "3 2018-01-04     7.8       398\n",
              "4 2018-01-05     7.8       454"
            ],
            "text/html": [
              "\n",
              "  <div id=\"df-44029589-093f-44ae-a72e-2ed1cfcb8cc3\" class=\"colab-df-container\">\n",
              "    <div>\n",
              "<style scoped>\n",
              "    .dataframe tbody tr th:only-of-type {\n",
              "        vertical-align: middle;\n",
              "    }\n",
              "\n",
              "    .dataframe tbody tr th {\n",
              "        vertical-align: top;\n",
              "    }\n",
              "\n",
              "    .dataframe thead th {\n",
              "        text-align: right;\n",
              "    }\n",
              "</style>\n",
              "<table border=\"1\" class=\"dataframe\">\n",
              "  <thead>\n",
              "    <tr style=\"text-align: right;\">\n",
              "      <th></th>\n",
              "      <th>fecha</th>\n",
              "      <th>precio</th>\n",
              "      <th>cantidad</th>\n",
              "    </tr>\n",
              "  </thead>\n",
              "  <tbody>\n",
              "    <tr>\n",
              "      <th>0</th>\n",
              "      <td>2018-01-01</td>\n",
              "      <td>7.8</td>\n",
              "      <td>516</td>\n",
              "    </tr>\n",
              "    <tr>\n",
              "      <th>1</th>\n",
              "      <td>2018-01-02</td>\n",
              "      <td>7.8</td>\n",
              "      <td>424</td>\n",
              "    </tr>\n",
              "    <tr>\n",
              "      <th>2</th>\n",
              "      <td>2018-01-03</td>\n",
              "      <td>7.8</td>\n",
              "      <td>334</td>\n",
              "    </tr>\n",
              "    <tr>\n",
              "      <th>3</th>\n",
              "      <td>2018-01-04</td>\n",
              "      <td>7.8</td>\n",
              "      <td>398</td>\n",
              "    </tr>\n",
              "    <tr>\n",
              "      <th>4</th>\n",
              "      <td>2018-01-05</td>\n",
              "      <td>7.8</td>\n",
              "      <td>454</td>\n",
              "    </tr>\n",
              "  </tbody>\n",
              "</table>\n",
              "</div>\n",
              "    <div class=\"colab-df-buttons\">\n",
              "\n",
              "  <div class=\"colab-df-container\">\n",
              "    <button class=\"colab-df-convert\" onclick=\"convertToInteractive('df-44029589-093f-44ae-a72e-2ed1cfcb8cc3')\"\n",
              "            title=\"Convert this dataframe to an interactive table.\"\n",
              "            style=\"display:none;\">\n",
              "\n",
              "  <svg xmlns=\"http://www.w3.org/2000/svg\" height=\"24px\" viewBox=\"0 -960 960 960\">\n",
              "    <path d=\"M120-120v-720h720v720H120Zm60-500h600v-160H180v160Zm220 220h160v-160H400v160Zm0 220h160v-160H400v160ZM180-400h160v-160H180v160Zm440 0h160v-160H620v160ZM180-180h160v-160H180v160Zm440 0h160v-160H620v160Z\"/>\n",
              "  </svg>\n",
              "    </button>\n",
              "\n",
              "  <style>\n",
              "    .colab-df-container {\n",
              "      display:flex;\n",
              "      gap: 12px;\n",
              "    }\n",
              "\n",
              "    .colab-df-convert {\n",
              "      background-color: #E8F0FE;\n",
              "      border: none;\n",
              "      border-radius: 50%;\n",
              "      cursor: pointer;\n",
              "      display: none;\n",
              "      fill: #1967D2;\n",
              "      height: 32px;\n",
              "      padding: 0 0 0 0;\n",
              "      width: 32px;\n",
              "    }\n",
              "\n",
              "    .colab-df-convert:hover {\n",
              "      background-color: #E2EBFA;\n",
              "      box-shadow: 0px 1px 2px rgba(60, 64, 67, 0.3), 0px 1px 3px 1px rgba(60, 64, 67, 0.15);\n",
              "      fill: #174EA6;\n",
              "    }\n",
              "\n",
              "    .colab-df-buttons div {\n",
              "      margin-bottom: 4px;\n",
              "    }\n",
              "\n",
              "    [theme=dark] .colab-df-convert {\n",
              "      background-color: #3B4455;\n",
              "      fill: #D2E3FC;\n",
              "    }\n",
              "\n",
              "    [theme=dark] .colab-df-convert:hover {\n",
              "      background-color: #434B5C;\n",
              "      box-shadow: 0px 1px 3px 1px rgba(0, 0, 0, 0.15);\n",
              "      filter: drop-shadow(0px 1px 2px rgba(0, 0, 0, 0.3));\n",
              "      fill: #FFFFFF;\n",
              "    }\n",
              "  </style>\n",
              "\n",
              "    <script>\n",
              "      const buttonEl =\n",
              "        document.querySelector('#df-44029589-093f-44ae-a72e-2ed1cfcb8cc3 button.colab-df-convert');\n",
              "      buttonEl.style.display =\n",
              "        google.colab.kernel.accessAllowed ? 'block' : 'none';\n",
              "\n",
              "      async function convertToInteractive(key) {\n",
              "        const element = document.querySelector('#df-44029589-093f-44ae-a72e-2ed1cfcb8cc3');\n",
              "        const dataTable =\n",
              "          await google.colab.kernel.invokeFunction('convertToInteractive',\n",
              "                                                    [key], {});\n",
              "        if (!dataTable) return;\n",
              "\n",
              "        const docLinkHtml = 'Like what you see? Visit the ' +\n",
              "          '<a target=\"_blank\" href=https://colab.research.google.com/notebooks/data_table.ipynb>data table notebook</a>'\n",
              "          + ' to learn more about interactive tables.';\n",
              "        element.innerHTML = '';\n",
              "        dataTable['output_type'] = 'display_data';\n",
              "        await google.colab.output.renderOutput(dataTable, element);\n",
              "        const docLink = document.createElement('div');\n",
              "        docLink.innerHTML = docLinkHtml;\n",
              "        element.appendChild(docLink);\n",
              "      }\n",
              "    </script>\n",
              "  </div>\n",
              "\n",
              "\n",
              "<div id=\"df-ddd8353f-fc05-47fb-81f7-f7afb9b8f8a4\">\n",
              "  <button class=\"colab-df-quickchart\" onclick=\"quickchart('df-ddd8353f-fc05-47fb-81f7-f7afb9b8f8a4')\"\n",
              "            title=\"Suggest charts\"\n",
              "            style=\"display:none;\">\n",
              "\n",
              "<svg xmlns=\"http://www.w3.org/2000/svg\" height=\"24px\"viewBox=\"0 0 24 24\"\n",
              "     width=\"24px\">\n",
              "    <g>\n",
              "        <path d=\"M19 3H5c-1.1 0-2 .9-2 2v14c0 1.1.9 2 2 2h14c1.1 0 2-.9 2-2V5c0-1.1-.9-2-2-2zM9 17H7v-7h2v7zm4 0h-2V7h2v10zm4 0h-2v-4h2v4z\"/>\n",
              "    </g>\n",
              "</svg>\n",
              "  </button>\n",
              "\n",
              "<style>\n",
              "  .colab-df-quickchart {\n",
              "      --bg-color: #E8F0FE;\n",
              "      --fill-color: #1967D2;\n",
              "      --hover-bg-color: #E2EBFA;\n",
              "      --hover-fill-color: #174EA6;\n",
              "      --disabled-fill-color: #AAA;\n",
              "      --disabled-bg-color: #DDD;\n",
              "  }\n",
              "\n",
              "  [theme=dark] .colab-df-quickchart {\n",
              "      --bg-color: #3B4455;\n",
              "      --fill-color: #D2E3FC;\n",
              "      --hover-bg-color: #434B5C;\n",
              "      --hover-fill-color: #FFFFFF;\n",
              "      --disabled-bg-color: #3B4455;\n",
              "      --disabled-fill-color: #666;\n",
              "  }\n",
              "\n",
              "  .colab-df-quickchart {\n",
              "    background-color: var(--bg-color);\n",
              "    border: none;\n",
              "    border-radius: 50%;\n",
              "    cursor: pointer;\n",
              "    display: none;\n",
              "    fill: var(--fill-color);\n",
              "    height: 32px;\n",
              "    padding: 0;\n",
              "    width: 32px;\n",
              "  }\n",
              "\n",
              "  .colab-df-quickchart:hover {\n",
              "    background-color: var(--hover-bg-color);\n",
              "    box-shadow: 0 1px 2px rgba(60, 64, 67, 0.3), 0 1px 3px 1px rgba(60, 64, 67, 0.15);\n",
              "    fill: var(--button-hover-fill-color);\n",
              "  }\n",
              "\n",
              "  .colab-df-quickchart-complete:disabled,\n",
              "  .colab-df-quickchart-complete:disabled:hover {\n",
              "    background-color: var(--disabled-bg-color);\n",
              "    fill: var(--disabled-fill-color);\n",
              "    box-shadow: none;\n",
              "  }\n",
              "\n",
              "  .colab-df-spinner {\n",
              "    border: 2px solid var(--fill-color);\n",
              "    border-color: transparent;\n",
              "    border-bottom-color: var(--fill-color);\n",
              "    animation:\n",
              "      spin 1s steps(1) infinite;\n",
              "  }\n",
              "\n",
              "  @keyframes spin {\n",
              "    0% {\n",
              "      border-color: transparent;\n",
              "      border-bottom-color: var(--fill-color);\n",
              "      border-left-color: var(--fill-color);\n",
              "    }\n",
              "    20% {\n",
              "      border-color: transparent;\n",
              "      border-left-color: var(--fill-color);\n",
              "      border-top-color: var(--fill-color);\n",
              "    }\n",
              "    30% {\n",
              "      border-color: transparent;\n",
              "      border-left-color: var(--fill-color);\n",
              "      border-top-color: var(--fill-color);\n",
              "      border-right-color: var(--fill-color);\n",
              "    }\n",
              "    40% {\n",
              "      border-color: transparent;\n",
              "      border-right-color: var(--fill-color);\n",
              "      border-top-color: var(--fill-color);\n",
              "    }\n",
              "    60% {\n",
              "      border-color: transparent;\n",
              "      border-right-color: var(--fill-color);\n",
              "    }\n",
              "    80% {\n",
              "      border-color: transparent;\n",
              "      border-right-color: var(--fill-color);\n",
              "      border-bottom-color: var(--fill-color);\n",
              "    }\n",
              "    90% {\n",
              "      border-color: transparent;\n",
              "      border-bottom-color: var(--fill-color);\n",
              "    }\n",
              "  }\n",
              "</style>\n",
              "\n",
              "  <script>\n",
              "    async function quickchart(key) {\n",
              "      const quickchartButtonEl =\n",
              "        document.querySelector('#' + key + ' button');\n",
              "      quickchartButtonEl.disabled = true;  // To prevent multiple clicks.\n",
              "      quickchartButtonEl.classList.add('colab-df-spinner');\n",
              "      try {\n",
              "        const charts = await google.colab.kernel.invokeFunction(\n",
              "            'suggestCharts', [key], {});\n",
              "      } catch (error) {\n",
              "        console.error('Error during call to suggestCharts:', error);\n",
              "      }\n",
              "      quickchartButtonEl.classList.remove('colab-df-spinner');\n",
              "      quickchartButtonEl.classList.add('colab-df-quickchart-complete');\n",
              "    }\n",
              "    (() => {\n",
              "      let quickchartButtonEl =\n",
              "        document.querySelector('#df-ddd8353f-fc05-47fb-81f7-f7afb9b8f8a4 button');\n",
              "      quickchartButtonEl.style.display =\n",
              "        google.colab.kernel.accessAllowed ? 'block' : 'none';\n",
              "    })();\n",
              "  </script>\n",
              "</div>\n",
              "\n",
              "    </div>\n",
              "  </div>\n"
            ],
            "application/vnd.google.colaboratory.intrinsic+json": {
              "type": "dataframe",
              "variable_name": "data",
              "summary": "{\n  \"name\": \"data\",\n  \"rows\": 574,\n  \"fields\": [\n    {\n      \"column\": \"fecha\",\n      \"properties\": {\n        \"dtype\": \"date\",\n        \"min\": \"2018-01-01 00:00:00\",\n        \"max\": \"2019-07-28 00:00:00\",\n        \"num_unique_values\": 574,\n        \"samples\": [\n          \"2019-05-30 00:00:00\",\n          \"2018-03-12 00:00:00\",\n          \"2018-05-12 00:00:00\"\n        ],\n        \"semantic_type\": \"\",\n        \"description\": \"\"\n      }\n    },\n    {\n      \"column\": \"precio\",\n      \"properties\": {\n        \"dtype\": \"number\",\n        \"std\": 1.5528277420594978,\n        \"min\": 2.7,\n        \"max\": 10.1,\n        \"num_unique_values\": 47,\n        \"samples\": [\n          8.4,\n          5.6,\n          7.0\n        ],\n        \"semantic_type\": \"\",\n        \"description\": \"\"\n      }\n    },\n    {\n      \"column\": \"cantidad\",\n      \"properties\": {\n        \"dtype\": \"number\",\n        \"std\": 251,\n        \"min\": 53,\n        \"max\": 2444,\n        \"num_unique_values\": 361,\n        \"samples\": [\n          382,\n          168,\n          218\n        ],\n        \"semantic_type\": \"\",\n        \"description\": \"\"\n      }\n    }\n  ]\n}"
            }
          },
          "metadata": {},
          "execution_count": 2
        }
      ]
    },
    {
      "cell_type": "code",
      "source": [
        "data['dia_semana'] = data['fecha'].dt.day_name()\n",
        "data.head()"
      ],
      "metadata": {
        "colab": {
          "base_uri": "https://localhost:8080/",
          "height": 206
        },
        "id": "FQy3WuuiTNQM",
        "outputId": "5d43778c-7ee8-4ad6-f6a3-8a8a8a4d67e6"
      },
      "execution_count": 3,
      "outputs": [
        {
          "output_type": "execute_result",
          "data": {
            "text/plain": [
              "       fecha  precio  cantidad dia_semana\n",
              "0 2018-01-01     7.8       516     Monday\n",
              "1 2018-01-02     7.8       424    Tuesday\n",
              "2 2018-01-03     7.8       334  Wednesday\n",
              "3 2018-01-04     7.8       398   Thursday\n",
              "4 2018-01-05     7.8       454     Friday"
            ],
            "text/html": [
              "\n",
              "  <div id=\"df-42fb570e-3af8-436f-a475-555c31e45290\" class=\"colab-df-container\">\n",
              "    <div>\n",
              "<style scoped>\n",
              "    .dataframe tbody tr th:only-of-type {\n",
              "        vertical-align: middle;\n",
              "    }\n",
              "\n",
              "    .dataframe tbody tr th {\n",
              "        vertical-align: top;\n",
              "    }\n",
              "\n",
              "    .dataframe thead th {\n",
              "        text-align: right;\n",
              "    }\n",
              "</style>\n",
              "<table border=\"1\" class=\"dataframe\">\n",
              "  <thead>\n",
              "    <tr style=\"text-align: right;\">\n",
              "      <th></th>\n",
              "      <th>fecha</th>\n",
              "      <th>precio</th>\n",
              "      <th>cantidad</th>\n",
              "      <th>dia_semana</th>\n",
              "    </tr>\n",
              "  </thead>\n",
              "  <tbody>\n",
              "    <tr>\n",
              "      <th>0</th>\n",
              "      <td>2018-01-01</td>\n",
              "      <td>7.8</td>\n",
              "      <td>516</td>\n",
              "      <td>Monday</td>\n",
              "    </tr>\n",
              "    <tr>\n",
              "      <th>1</th>\n",
              "      <td>2018-01-02</td>\n",
              "      <td>7.8</td>\n",
              "      <td>424</td>\n",
              "      <td>Tuesday</td>\n",
              "    </tr>\n",
              "    <tr>\n",
              "      <th>2</th>\n",
              "      <td>2018-01-03</td>\n",
              "      <td>7.8</td>\n",
              "      <td>334</td>\n",
              "      <td>Wednesday</td>\n",
              "    </tr>\n",
              "    <tr>\n",
              "      <th>3</th>\n",
              "      <td>2018-01-04</td>\n",
              "      <td>7.8</td>\n",
              "      <td>398</td>\n",
              "      <td>Thursday</td>\n",
              "    </tr>\n",
              "    <tr>\n",
              "      <th>4</th>\n",
              "      <td>2018-01-05</td>\n",
              "      <td>7.8</td>\n",
              "      <td>454</td>\n",
              "      <td>Friday</td>\n",
              "    </tr>\n",
              "  </tbody>\n",
              "</table>\n",
              "</div>\n",
              "    <div class=\"colab-df-buttons\">\n",
              "\n",
              "  <div class=\"colab-df-container\">\n",
              "    <button class=\"colab-df-convert\" onclick=\"convertToInteractive('df-42fb570e-3af8-436f-a475-555c31e45290')\"\n",
              "            title=\"Convert this dataframe to an interactive table.\"\n",
              "            style=\"display:none;\">\n",
              "\n",
              "  <svg xmlns=\"http://www.w3.org/2000/svg\" height=\"24px\" viewBox=\"0 -960 960 960\">\n",
              "    <path d=\"M120-120v-720h720v720H120Zm60-500h600v-160H180v160Zm220 220h160v-160H400v160Zm0 220h160v-160H400v160ZM180-400h160v-160H180v160Zm440 0h160v-160H620v160ZM180-180h160v-160H180v160Zm440 0h160v-160H620v160Z\"/>\n",
              "  </svg>\n",
              "    </button>\n",
              "\n",
              "  <style>\n",
              "    .colab-df-container {\n",
              "      display:flex;\n",
              "      gap: 12px;\n",
              "    }\n",
              "\n",
              "    .colab-df-convert {\n",
              "      background-color: #E8F0FE;\n",
              "      border: none;\n",
              "      border-radius: 50%;\n",
              "      cursor: pointer;\n",
              "      display: none;\n",
              "      fill: #1967D2;\n",
              "      height: 32px;\n",
              "      padding: 0 0 0 0;\n",
              "      width: 32px;\n",
              "    }\n",
              "\n",
              "    .colab-df-convert:hover {\n",
              "      background-color: #E2EBFA;\n",
              "      box-shadow: 0px 1px 2px rgba(60, 64, 67, 0.3), 0px 1px 3px 1px rgba(60, 64, 67, 0.15);\n",
              "      fill: #174EA6;\n",
              "    }\n",
              "\n",
              "    .colab-df-buttons div {\n",
              "      margin-bottom: 4px;\n",
              "    }\n",
              "\n",
              "    [theme=dark] .colab-df-convert {\n",
              "      background-color: #3B4455;\n",
              "      fill: #D2E3FC;\n",
              "    }\n",
              "\n",
              "    [theme=dark] .colab-df-convert:hover {\n",
              "      background-color: #434B5C;\n",
              "      box-shadow: 0px 1px 3px 1px rgba(0, 0, 0, 0.15);\n",
              "      filter: drop-shadow(0px 1px 2px rgba(0, 0, 0, 0.3));\n",
              "      fill: #FFFFFF;\n",
              "    }\n",
              "  </style>\n",
              "\n",
              "    <script>\n",
              "      const buttonEl =\n",
              "        document.querySelector('#df-42fb570e-3af8-436f-a475-555c31e45290 button.colab-df-convert');\n",
              "      buttonEl.style.display =\n",
              "        google.colab.kernel.accessAllowed ? 'block' : 'none';\n",
              "\n",
              "      async function convertToInteractive(key) {\n",
              "        const element = document.querySelector('#df-42fb570e-3af8-436f-a475-555c31e45290');\n",
              "        const dataTable =\n",
              "          await google.colab.kernel.invokeFunction('convertToInteractive',\n",
              "                                                    [key], {});\n",
              "        if (!dataTable) return;\n",
              "\n",
              "        const docLinkHtml = 'Like what you see? Visit the ' +\n",
              "          '<a target=\"_blank\" href=https://colab.research.google.com/notebooks/data_table.ipynb>data table notebook</a>'\n",
              "          + ' to learn more about interactive tables.';\n",
              "        element.innerHTML = '';\n",
              "        dataTable['output_type'] = 'display_data';\n",
              "        await google.colab.output.renderOutput(dataTable, element);\n",
              "        const docLink = document.createElement('div');\n",
              "        docLink.innerHTML = docLinkHtml;\n",
              "        element.appendChild(docLink);\n",
              "      }\n",
              "    </script>\n",
              "  </div>\n",
              "\n",
              "\n",
              "<div id=\"df-8dfb65f7-6ddf-47b3-95e0-a8677b1cc259\">\n",
              "  <button class=\"colab-df-quickchart\" onclick=\"quickchart('df-8dfb65f7-6ddf-47b3-95e0-a8677b1cc259')\"\n",
              "            title=\"Suggest charts\"\n",
              "            style=\"display:none;\">\n",
              "\n",
              "<svg xmlns=\"http://www.w3.org/2000/svg\" height=\"24px\"viewBox=\"0 0 24 24\"\n",
              "     width=\"24px\">\n",
              "    <g>\n",
              "        <path d=\"M19 3H5c-1.1 0-2 .9-2 2v14c0 1.1.9 2 2 2h14c1.1 0 2-.9 2-2V5c0-1.1-.9-2-2-2zM9 17H7v-7h2v7zm4 0h-2V7h2v10zm4 0h-2v-4h2v4z\"/>\n",
              "    </g>\n",
              "</svg>\n",
              "  </button>\n",
              "\n",
              "<style>\n",
              "  .colab-df-quickchart {\n",
              "      --bg-color: #E8F0FE;\n",
              "      --fill-color: #1967D2;\n",
              "      --hover-bg-color: #E2EBFA;\n",
              "      --hover-fill-color: #174EA6;\n",
              "      --disabled-fill-color: #AAA;\n",
              "      --disabled-bg-color: #DDD;\n",
              "  }\n",
              "\n",
              "  [theme=dark] .colab-df-quickchart {\n",
              "      --bg-color: #3B4455;\n",
              "      --fill-color: #D2E3FC;\n",
              "      --hover-bg-color: #434B5C;\n",
              "      --hover-fill-color: #FFFFFF;\n",
              "      --disabled-bg-color: #3B4455;\n",
              "      --disabled-fill-color: #666;\n",
              "  }\n",
              "\n",
              "  .colab-df-quickchart {\n",
              "    background-color: var(--bg-color);\n",
              "    border: none;\n",
              "    border-radius: 50%;\n",
              "    cursor: pointer;\n",
              "    display: none;\n",
              "    fill: var(--fill-color);\n",
              "    height: 32px;\n",
              "    padding: 0;\n",
              "    width: 32px;\n",
              "  }\n",
              "\n",
              "  .colab-df-quickchart:hover {\n",
              "    background-color: var(--hover-bg-color);\n",
              "    box-shadow: 0 1px 2px rgba(60, 64, 67, 0.3), 0 1px 3px 1px rgba(60, 64, 67, 0.15);\n",
              "    fill: var(--button-hover-fill-color);\n",
              "  }\n",
              "\n",
              "  .colab-df-quickchart-complete:disabled,\n",
              "  .colab-df-quickchart-complete:disabled:hover {\n",
              "    background-color: var(--disabled-bg-color);\n",
              "    fill: var(--disabled-fill-color);\n",
              "    box-shadow: none;\n",
              "  }\n",
              "\n",
              "  .colab-df-spinner {\n",
              "    border: 2px solid var(--fill-color);\n",
              "    border-color: transparent;\n",
              "    border-bottom-color: var(--fill-color);\n",
              "    animation:\n",
              "      spin 1s steps(1) infinite;\n",
              "  }\n",
              "\n",
              "  @keyframes spin {\n",
              "    0% {\n",
              "      border-color: transparent;\n",
              "      border-bottom-color: var(--fill-color);\n",
              "      border-left-color: var(--fill-color);\n",
              "    }\n",
              "    20% {\n",
              "      border-color: transparent;\n",
              "      border-left-color: var(--fill-color);\n",
              "      border-top-color: var(--fill-color);\n",
              "    }\n",
              "    30% {\n",
              "      border-color: transparent;\n",
              "      border-left-color: var(--fill-color);\n",
              "      border-top-color: var(--fill-color);\n",
              "      border-right-color: var(--fill-color);\n",
              "    }\n",
              "    40% {\n",
              "      border-color: transparent;\n",
              "      border-right-color: var(--fill-color);\n",
              "      border-top-color: var(--fill-color);\n",
              "    }\n",
              "    60% {\n",
              "      border-color: transparent;\n",
              "      border-right-color: var(--fill-color);\n",
              "    }\n",
              "    80% {\n",
              "      border-color: transparent;\n",
              "      border-right-color: var(--fill-color);\n",
              "      border-bottom-color: var(--fill-color);\n",
              "    }\n",
              "    90% {\n",
              "      border-color: transparent;\n",
              "      border-bottom-color: var(--fill-color);\n",
              "    }\n",
              "  }\n",
              "</style>\n",
              "\n",
              "  <script>\n",
              "    async function quickchart(key) {\n",
              "      const quickchartButtonEl =\n",
              "        document.querySelector('#' + key + ' button');\n",
              "      quickchartButtonEl.disabled = true;  // To prevent multiple clicks.\n",
              "      quickchartButtonEl.classList.add('colab-df-spinner');\n",
              "      try {\n",
              "        const charts = await google.colab.kernel.invokeFunction(\n",
              "            'suggestCharts', [key], {});\n",
              "      } catch (error) {\n",
              "        console.error('Error during call to suggestCharts:', error);\n",
              "      }\n",
              "      quickchartButtonEl.classList.remove('colab-df-spinner');\n",
              "      quickchartButtonEl.classList.add('colab-df-quickchart-complete');\n",
              "    }\n",
              "    (() => {\n",
              "      let quickchartButtonEl =\n",
              "        document.querySelector('#df-8dfb65f7-6ddf-47b3-95e0-a8677b1cc259 button');\n",
              "      quickchartButtonEl.style.display =\n",
              "        google.colab.kernel.accessAllowed ? 'block' : 'none';\n",
              "    })();\n",
              "  </script>\n",
              "</div>\n",
              "\n",
              "    </div>\n",
              "  </div>\n"
            ],
            "application/vnd.google.colaboratory.intrinsic+json": {
              "type": "dataframe",
              "variable_name": "data",
              "summary": "{\n  \"name\": \"data\",\n  \"rows\": 574,\n  \"fields\": [\n    {\n      \"column\": \"fecha\",\n      \"properties\": {\n        \"dtype\": \"date\",\n        \"min\": \"2018-01-01 00:00:00\",\n        \"max\": \"2019-07-28 00:00:00\",\n        \"num_unique_values\": 574,\n        \"samples\": [\n          \"2019-05-30 00:00:00\",\n          \"2018-03-12 00:00:00\",\n          \"2018-05-12 00:00:00\"\n        ],\n        \"semantic_type\": \"\",\n        \"description\": \"\"\n      }\n    },\n    {\n      \"column\": \"precio\",\n      \"properties\": {\n        \"dtype\": \"number\",\n        \"std\": 1.5528277420594978,\n        \"min\": 2.7,\n        \"max\": 10.1,\n        \"num_unique_values\": 47,\n        \"samples\": [\n          8.4,\n          5.6,\n          7.0\n        ],\n        \"semantic_type\": \"\",\n        \"description\": \"\"\n      }\n    },\n    {\n      \"column\": \"cantidad\",\n      \"properties\": {\n        \"dtype\": \"number\",\n        \"std\": 251,\n        \"min\": 53,\n        \"max\": 2444,\n        \"num_unique_values\": 361,\n        \"samples\": [\n          382,\n          168,\n          218\n        ],\n        \"semantic_type\": \"\",\n        \"description\": \"\"\n      }\n    },\n    {\n      \"column\": \"dia_semana\",\n      \"properties\": {\n        \"dtype\": \"category\",\n        \"num_unique_values\": 7,\n        \"samples\": [\n          \"Monday\",\n          \"Tuesday\",\n          \"Saturday\"\n        ],\n        \"semantic_type\": \"\",\n        \"description\": \"\"\n      }\n    }\n  ]\n}"
            }
          },
          "metadata": {},
          "execution_count": 3
        }
      ]
    },
    {
      "cell_type": "markdown",
      "source": [
        "## Demanda lineal"
      ],
      "metadata": {
        "id": "hHfoYzdvuu5F"
      }
    },
    {
      "cell_type": "code",
      "source": [
        "elast_var = smf.ols(formula='cantidad ~ precio + C(dia_semana)', data=data).fit()\n",
        "print(elast_var.summary())"
      ],
      "metadata": {
        "colab": {
          "base_uri": "https://localhost:8080/"
        },
        "id": "BdVl9IoUux1j",
        "outputId": "7dad7e81-a2bc-40b2-bbb1-7da9fab03378"
      },
      "execution_count": 4,
      "outputs": [
        {
          "output_type": "stream",
          "name": "stdout",
          "text": [
            "                            OLS Regression Results                            \n",
            "==============================================================================\n",
            "Dep. Variable:               cantidad   R-squared:                       0.533\n",
            "Model:                            OLS   Adj. R-squared:                  0.528\n",
            "Method:                 Least Squares   F-statistic:                     92.41\n",
            "Date:                Thu, 09 Jan 2025   Prob (F-statistic):           1.83e-89\n",
            "Time:                        07:06:10   Log-Likelihood:                -3768.5\n",
            "No. Observations:                 574   AIC:                             7553.\n",
            "Df Residuals:                     566   BIC:                             7588.\n",
            "Df Model:                           7                                         \n",
            "Covariance Type:            nonrobust                                         \n",
            "==============================================================================================\n",
            "                                 coef    std err          t      P>|t|      [0.025      0.975]\n",
            "----------------------------------------------------------------------------------------------\n",
            "Intercept                   1099.0158     36.975     29.723      0.000    1026.391    1171.641\n",
            "C(dia_semana)[T.Monday]       27.0122     27.023      1.000      0.318     -26.066      80.091\n",
            "C(dia_semana)[T.Saturday]   -166.2805     27.023     -6.153      0.000    -219.359    -113.202\n",
            "C(dia_semana)[T.Sunday]     -287.4390     27.023    -10.637      0.000    -340.517    -234.361\n",
            "C(dia_semana)[T.Thursday]    -45.8780     27.023     -1.698      0.090     -98.956       7.200\n",
            "C(dia_semana)[T.Tuesday]     -25.0000     27.023     -0.925      0.355     -78.078      28.078\n",
            "C(dia_semana)[T.Wednesday]  -121.2195     27.023     -4.486      0.000    -174.298     -68.141\n",
            "precio                       -98.1964      4.655    -21.094      0.000    -107.340     -89.053\n",
            "==============================================================================\n",
            "Omnibus:                      579.718   Durbin-Watson:                   0.408\n",
            "Prob(Omnibus):                  0.000   Jarque-Bera (JB):            28770.203\n",
            "Skew:                           4.517   Prob(JB):                         0.00\n",
            "Kurtosis:                      36.486   Cond. No.                         53.8\n",
            "==============================================================================\n",
            "\n",
            "Notes:\n",
            "[1] Standard Errors assume that the covariance matrix of the errors is correctly specified.\n"
          ]
        }
      ]
    },
    {
      "cell_type": "markdown",
      "source": [
        "En el caso de un modelo de demanda lineal, la ecuación se representa como:\n",
        "\n",
        "$$\n",
        "Q = \\beta_0 + \\beta_1 P + \\beta_2 D_{Monday} + \\dots + \\epsilon,\n",
        "$$\n",
        "\n",
        "donde:\n",
        "- $ Q $: Cantidad demandada.\n",
        "- $ P $: Precio.\n",
        "- $ D_{Monday} $: Variable indicadora para el lunes (u otras variables categóricas).\n",
        "- $ \\beta_1 $: Coeficiente que mide la sensibilidad de la demanda al precio.\n",
        "\n",
        "Sustituyendo esta ecuación en la función de ingresos:\n",
        "\n",
        "$$\n",
        "R = P \\cdot Q,\n",
        "$$\n",
        "\n",
        "se obtiene:\n",
        "\n",
        "$$\n",
        "R = P \\cdot \\left(\\beta_0 + \\beta_1 P + \\beta_2 D_{Monday} + \\dots \\right).\n",
        "$$\n",
        "\n",
        "Simplificando:\n",
        "\n",
        "$$\n",
        "R = \\beta_0 P + \\beta_1 P^2 + \\beta_2 P \\cdot D_{Monday} + \\dots.\n",
        "$$\n",
        "\n",
        "### Optimización de Ingresos\n",
        "Para determinar el precio que maximiza los ingresos, se deriva la función de ingresos con respecto al precio $ P $:\n",
        "\n",
        "$$\n",
        "\\frac{dR}{dP} = \\beta_0 + 2 \\beta_1 P + \\beta_2 D_{Monday}.\n",
        "$$\n",
        "\n",
        "Igualando a cero para encontrar el óptimo:\n",
        "\n",
        "$$\n",
        "\\beta_0 + 2 \\beta_1 P + \\beta_2 D_{Monday} = 0.\n",
        "$$\n",
        "\n",
        "Resolviendo para $ P $:\n",
        "\n",
        "$$\n",
        "P^* = \\frac{-(\\beta_0 + \\beta_2 D_{Monday})}{2 \\beta_1}.\n",
        "$$"
      ],
      "metadata": {
        "id": "dM8_GfL7ZzG-"
      }
    },
    {
      "cell_type": "markdown",
      "source": [
        "### Interpretación\n",
        "- El precio óptimo $ P^* $ depende de los coeficientes del modelo:\n",
        "- $ \\beta_0 $: Representa la intersección base de la demanda.\n",
        "- $ \\beta_1 $: Determina la sensibilidad de la demanda al precio. Es crucial que $ \\beta_1 < 0 $, ya que una relación positiva entre precio y cantidad no tendría sentido económico.\n",
        "- $ \\beta_2 $: Ajusta el precio óptimo según la categoría de día (como los lunes, en este caso).\n",
        "- Si $ \\beta_1 $ es muy pequeño (en magnitud), $ P^* $ puede ser irrealmente alto o bajo, lo que sugiere revisar la especificación del modelo.\n",
        "\n",
        "Este resultado muestra que, a diferencia de un modelo de elasticidad constante, en un modelo de demanda lineal, sí es posible encontrar un precio óptimo finito para maximizar los ingresos."
      ],
      "metadata": {
        "id": "AATSKjGBZYQH"
      }
    },
    {
      "cell_type": "code",
      "source": [
        "import numpy as np\n",
        "\n",
        "# Coeficientes del modelo\n",
        "beta_0 = elast_var.params['Intercept']\n",
        "beta_1 = elast_var.params['precio']\n",
        "beta_2 = elast_var.params['C(dia_semana)[T.Monday]']  # Ajusta esto si el nombre varía."
      ],
      "metadata": {
        "id": "XY50x1tQp-0p"
      },
      "execution_count": 5,
      "outputs": []
    },
    {
      "cell_type": "code",
      "source": [
        "# Función de ingresos en función del precio\n",
        "def ingresos_lin(precio):\n",
        "    cantidad = beta_0 + beta_1 * precio + beta_2  # Demanda para \"Monday\"\n",
        "    return precio * cantidad  # Ingresos = P * Q"
      ],
      "metadata": {
        "id": "qfE3KeeqqFD-"
      },
      "execution_count": 6,
      "outputs": []
    },
    {
      "cell_type": "code",
      "source": [
        "# Derivada de los ingresos\n",
        "def derivada_ingresos(precio):\n",
        "    cantidad = beta_0 + beta_1 * precio + beta_2\n",
        "    return cantidad + beta_1 * precio  # dR/dP"
      ],
      "metadata": {
        "id": "Osv_oulzqMM4"
      },
      "execution_count": 7,
      "outputs": []
    },
    {
      "cell_type": "code",
      "source": [
        "# Encontrar el precio óptimo numéricamente\n",
        "from scipy.optimize import minimize_scalar"
      ],
      "metadata": {
        "id": "UUCdOEEYqWHZ"
      },
      "execution_count": 8,
      "outputs": []
    },
    {
      "cell_type": "code",
      "source": [
        "resultado = minimize_scalar(lambda p: -ingresos_lin(p), bounds=(0, 20), method='bounded')  # Ajusta el rango de precios según tu caso\n",
        "precio_optimo = resultado.x\n",
        "ingreso_maximo = -resultado.fun\n",
        "\n",
        "print(f\"Precio óptimo: {precio_optimo:.2f}\")\n",
        "print(f\"Ingreso máximo: {ingreso_maximo:.2f}\")"
      ],
      "metadata": {
        "colab": {
          "base_uri": "https://localhost:8080/"
        },
        "id": "2dlFmb6AT5Bl",
        "outputId": "622cca61-cb8d-45d3-e3b0-1f5896794ab2"
      },
      "execution_count": 9,
      "outputs": [
        {
          "output_type": "stream",
          "name": "stdout",
          "text": [
            "Precio óptimo: 5.73\n",
            "Ingreso máximo: 3228.07\n"
          ]
        }
      ]
    },
    {
      "cell_type": "code",
      "source": [
        "precios = np.linspace(1, 15, 101)  # Ajusta el rango según tus datos\n",
        "ingresos_graficados = [ingresos_lin(p) for p in precios]\n",
        "\n",
        "plt.plot(precios, ingresos_graficados)\n",
        "plt.xlabel('Precio')\n",
        "plt.ylabel('Ingresos')\n",
        "plt.title('Ingresos vs Precio')\n",
        "plt.show()"
      ],
      "metadata": {
        "colab": {
          "base_uri": "https://localhost:8080/",
          "height": 472
        },
        "id": "7agahoRsYLpm",
        "outputId": "6fa3b70f-4caa-4b4c-8d75-74817b8974d2"
      },
      "execution_count": 10,
      "outputs": [
        {
          "output_type": "display_data",
          "data": {
            "text/plain": [
              "<Figure size 640x480 with 1 Axes>"
            ],
            "image/png": "[encoded data removed]"
          },
          "metadata": {}
        }
      ]
    },
    {
      "cell_type": "markdown",
      "source": [
        "## Demanda logaritmica"
      ],
      "metadata": {
        "id": "WmWdMkqZux6L"
      }
    },
    {
      "cell_type": "markdown",
      "source": [
        "Para optimizar los ingresos ($ R = P \\cdot Q $) con un modelo logarítmico, debemos considerar que la relación logarítmica entre cantidad y precio implica:\n",
        "\n",
        "$$\n",
        "\\ln(Q) = \\beta_0 + \\beta_1 \\ln(P) + \\beta_2 D_{Monday} + \\dots + \\epsilon\n",
        "$$\n",
        "\n",
        "Lo que equivale a:\n",
        "\n",
        "$$\n",
        "Q = e^{\\beta_0} \\cdot P^{\\beta_1} \\cdot e^{\\beta_2 D_{Monday}}\n",
        "$$\n",
        "\n",
        "Sustituyendo esta ecuación de demanda en la función de ingresos:\n",
        "\n",
        "$$\n",
        "R = P \\cdot Q = P \\cdot \\left(e^{\\beta_0} \\cdot P^{\\beta_1} \\cdot e^{\\beta_2 D_{Monday}}\\right)\n",
        "$$\n",
        "\n",
        "Se simplifica a:\n",
        "\n",
        "$$\n",
        "R = e^{\\beta_0} \\cdot e^{\\beta_2 D_{Monday}} \\cdot P^{1 + \\beta_1}\n",
        "$$\n",
        "\n",
        "Nuestro objetivo es encontrar el $ P $ que maximiza $ R $. Esto se logra derivando $ R $ respecto a $ P $, igualando a cero y resolviendo."
      ],
      "metadata": {
        "id": "9rvcsYQKUYj1"
      }
    },
    {
      "cell_type": "code",
      "source": [
        "elast_cte = smf.ols(formula='np.log(cantidad) ~ np.log(precio) + C(dia_semana)', data=data).fit()\n",
        "print(elast_cte.summary())"
      ],
      "metadata": {
        "id": "7VIT0XH5smwD",
        "colab": {
          "base_uri": "https://localhost:8080/"
        },
        "outputId": "550268b3-e080-4574-a45f-7dfb7ba9e36d"
      },
      "execution_count": 11,
      "outputs": [
        {
          "output_type": "stream",
          "name": "stdout",
          "text": [
            "                            OLS Regression Results                            \n",
            "==============================================================================\n",
            "Dep. Variable:       np.log(cantidad)   R-squared:                       0.804\n",
            "Model:                            OLS   Adj. R-squared:                  0.801\n",
            "Method:                 Least Squares   F-statistic:                     330.8\n",
            "Date:                Thu, 09 Jan 2025   Prob (F-statistic):          2.25e-195\n",
            "Time:                        07:06:12   Log-Likelihood:                -45.689\n",
            "No. Observations:                 574   AIC:                             107.4\n",
            "Df Residuals:                     566   BIC:                             142.2\n",
            "Df Model:                           7                                         \n",
            "Covariance Type:            nonrobust                                         \n",
            "==============================================================================================\n",
            "                                 coef    std err          t      P>|t|      [0.025      0.975]\n",
            "----------------------------------------------------------------------------------------------\n",
            "Intercept                      8.7677      0.088     99.626      0.000       8.595       8.941\n",
            "C(dia_semana)[T.Monday]        0.0588      0.041      1.428      0.154      -0.022       0.140\n",
            "C(dia_semana)[T.Saturday]     -0.4884      0.041    -11.852      0.000      -0.569      -0.407\n",
            "C(dia_semana)[T.Sunday]       -1.0995      0.041    -26.682      0.000      -1.180      -1.019\n",
            "C(dia_semana)[T.Thursday]     -0.1135      0.041     -2.755      0.006      -0.194      -0.033\n",
            "C(dia_semana)[T.Tuesday]      -0.0604      0.041     -1.466      0.143      -0.141       0.021\n",
            "C(dia_semana)[T.Wednesday]    -0.3290      0.041     -7.983      0.000      -0.410      -0.248\n",
            "np.log(precio)                -1.4946      0.044    -33.976      0.000      -1.581      -1.408\n",
            "==============================================================================\n",
            "Omnibus:                        9.197   Durbin-Watson:                   0.349\n",
            "Prob(Omnibus):                  0.010   Jarque-Bera (JB):                9.344\n",
            "Skew:                           0.312   Prob(JB):                      0.00936\n",
            "Kurtosis:                       3.008   Cond. No.                         20.1\n",
            "==============================================================================\n",
            "\n",
            "Notes:\n",
            "[1] Standard Errors assume that the covariance matrix of the errors is correctly specified.\n"
          ]
        }
      ]
    },
    {
      "cell_type": "markdown",
      "source": [
        "### Optimización"
      ],
      "metadata": {
        "id": "UcS5YFSSaU4P"
      }
    },
    {
      "cell_type": "code",
      "source": [
        "# Coeficientes del modelo\n",
        "beta_0 = elast_cte.params['Intercept']\n",
        "beta_1 = elast_cte.params['np.log(precio)']\n",
        "beta_2 = elast_cte.params['C(dia_semana)[T.Monday]']  # Ajusta si el nombre varía.\n",
        "\n",
        "# Constante para el día \"Monday\"\n",
        "k = np.exp(beta_0 + beta_2)\n",
        "\n",
        "# Función de ingresos en función del precio\n",
        "def ingresos(precio):\n",
        "    return k * (precio ** (1 + beta_1))  # R = k * P^(1 + beta_1)\n",
        "\n",
        "# Encontrar el precio óptimo numéricamente\n",
        "resultado = minimize_scalar(lambda p: -ingresos(p), bounds=(0.01, 1000), method='bounded')  # Evitamos log(0) con 0.01\n",
        "precio_optimo = resultado.x\n",
        "ingreso_maximo = -resultado.fun\n",
        "\n",
        "print(f\"Precio óptimo: {precio_optimo:.2f}\")\n",
        "print(f\"Ingreso máximo: {ingreso_maximo:.2f}\")"
      ],
      "metadata": {
        "colab": {
          "base_uri": "https://localhost:8080/"
        },
        "id": "Vh9huZ4VUqlm",
        "outputId": "5e73c59b-1821-408b-fcbd-5687a8ae015a"
      },
      "execution_count": 12,
      "outputs": [
        {
          "output_type": "stream",
          "name": "stdout",
          "text": [
            "Precio óptimo: 0.01\n",
            "Ingreso máximo: 66443.97\n"
          ]
        }
      ]
    },
    {
      "cell_type": "markdown",
      "source": [
        "### Analisis"
      ],
      "metadata": {
        "id": "BG0b1e2kaYCm"
      }
    },
    {
      "cell_type": "markdown",
      "source": [
        "\n",
        "\n",
        "En el contexto de un modelo de elasticidad constante, donde la demanda se representa como:\n",
        "\n",
        "$$\n",
        "Q = k \\cdot P^{\\beta_1}\n",
        "$$\n",
        "\n",
        "la función de ingresos se define como:\n",
        "\n",
        "$$\n",
        "R = P \\cdot Q = k \\cdot P^{1 + \\beta_1}.\n",
        "$$\n",
        "\n",
        "En este tipo de modelo, la relación entre el precio y los ingresos depende del valor del exponente $ 1 + \\beta_1 $. En el caso analizado, la elasticidad precio de la demanda es $ \\beta_1 = -1.4946 $, lo que implica:\n",
        "\n",
        "$$\n",
        "1 + \\beta_1 = -0.4946.\n",
        "$$\n",
        "\n",
        "Con este resultado, la función de ingresos se reduce a una forma donde $ R $ es inversamente proporcional a $ P $ elevado a un exponente negativo, específicamente:\n",
        "\n",
        "$$\n",
        "R = k \\cdot P^{-0.4946}.\n",
        "$$\n",
        "\n",
        "Este comportamiento indica que los ingresos aumentan indefinidamente a medida que el precio disminuye hacia cero. En otras palabras, no existe un precio finito que maximice los ingresos, ya que estos tienden a crecer sin límite conforme $ P \\to 0 $.\n",
        "\n",
        "Este resultado es típico de modelos de elasticidad constante cuando $ \\beta_1 < -1 $, lo cual implica una respuesta extremadamente sensible de la cantidad demandada a cambios en el precio. Sin embargo, en contextos económicos reales, este resultado es poco práctico debido a limitaciones como:\n",
        "- Costos de producción que impiden reducir precios indefinidamente.\n",
        "- Restricciones en la capacidad de producción.\n",
        "- Comportamientos de los consumidores que no son capturados adecuadamente por el modelo.\n",
        "\n",
        "Por lo tanto, al observar este tipo de comportamiento en un modelo de elasticidad constante, es importante considerar:\n",
        "1. Revisar los datos y la estimación del parámetro $ \\beta_1 $ para validar su magnitud.\n",
        "2. Introducir límites realistas en el rango de precios.\n",
        "3. Explorar alternativas como modelos con elasticidades variables, que puedan capturar mejor las relaciones no lineales entre precio e ingresos."
      ],
      "metadata": {
        "id": "vvCZgAJOXTQu"
      }
    },
    {
      "cell_type": "code",
      "source": [
        "precios = np.linspace(2, 9, 101)  # Ajusta el rango según tus datos\n",
        "ingresos_graficados = [ingresos(p) for p in precios]\n",
        "\n",
        "plt.plot(precios, ingresos_graficados)\n",
        "plt.xlabel('Precio')\n",
        "plt.ylabel('Ingresos')\n",
        "plt.title('Ingresos vs Precio')\n",
        "plt.show()"
      ],
      "metadata": {
        "colab": {
          "base_uri": "https://localhost:8080/",
          "height": 472
        },
        "id": "-4nckumfVWsO",
        "outputId": "25691b2b-6ba2-43eb-d323-911aece81eae"
      },
      "execution_count": 13,
      "outputs": [
        {
          "output_type": "display_data",
          "data": {
            "text/plain": [
              "<Figure size 640x480 with 1 Axes>"
            ],
            "image/png": "[encoded data removed]"
          },
          "metadata": {}
        }
      ]
    },
    {
      "cell_type": "markdown",
      "source": [
        "## Optimización de beneficios"
      ],
      "metadata": {
        "id": "3y6ICjY8bbc2"
      }
    },
    {
      "cell_type": "markdown",
      "source": [
        "### Demanda Lineal"
      ],
      "metadata": {
        "id": "kafp6e5Zd96W"
      }
    },
    {
      "cell_type": "code",
      "source": [
        "elast_var.predict({'precio': [5], 'dia_semana': ['Monday']})"
      ],
      "metadata": {
        "colab": {
          "base_uri": "https://localhost:8080/",
          "height": 115
        },
        "id": "Zs09Cw4UupIz",
        "outputId": "a59c5e18-4836-4a38-a7ba-d2a6e5507751"
      },
      "execution_count": 14,
      "outputs": [
        {
          "output_type": "execute_result",
          "data": {
            "text/plain": [
              "0    635.046153\n",
              "dtype: float64"
            ],
            "text/html": [
              "<div>\n",
              "<style scoped>\n",
              "    .dataframe tbody tr th:only-of-type {\n",
              "        vertical-align: middle;\n",
              "    }\n",
              "\n",
              "    .dataframe tbody tr th {\n",
              "        vertical-align: top;\n",
              "    }\n",
              "\n",
              "    .dataframe thead th {\n",
              "        text-align: right;\n",
              "    }\n",
              "</style>\n",
              "<table border=\"1\" class=\"dataframe\">\n",
              "  <thead>\n",
              "    <tr style=\"text-align: right;\">\n",
              "      <th></th>\n",
              "      <th>0</th>\n",
              "    </tr>\n",
              "  </thead>\n",
              "  <tbody>\n",
              "    <tr>\n",
              "      <th>0</th>\n",
              "      <td>635.046153</td>\n",
              "    </tr>\n",
              "  </tbody>\n",
              "</table>\n",
              "</div><br><label><b>dtype:</b> float64</label>"
            ]
          },
          "metadata": {},
          "execution_count": 14
        }
      ]
    },
    {
      "cell_type": "code",
      "source": [
        "# Definir la función de beneficio\n",
        "def beneficio(precio, elast_var, costo_unitario=2):\n",
        "    # Crear un DataFrame con una sola fila que tenga el precio y el dia_semana como \"Monday\"\n",
        "    # Predecir la cantidad utilizando el modelo de elasticidad\n",
        "    cantidad_predicha = elast_var.predict({'precio': [precio], 'dia_semana': ['Monday']})\n",
        "\n",
        "    # Calcular el beneficio\n",
        "    beneficio = (precio - costo_unitario) * cantidad_predicha\n",
        "    return -np.sum(beneficio)  # Negativo porque estamos minimizando"
      ],
      "metadata": {
        "id": "rAtCAaeHd4It"
      },
      "execution_count": 15,
      "outputs": []
    },
    {
      "cell_type": "code",
      "source": [
        "# Usar scipy para encontrar el precio óptimo\n",
        "resultado = minimize(lambda x: beneficio(x, elast_var), x0=[5.73], bounds=[(2, 10)])\n",
        "precio_optimo = resultado.x[0]\n",
        "\n",
        "# Imprimir resultados\n",
        "print(f\"Precio óptimo: {precio_optimo:.2f}\")"
      ],
      "metadata": {
        "colab": {
          "base_uri": "https://localhost:8080/"
        },
        "id": "C9_85nfEd6ie",
        "outputId": "c94e31f1-b585-4c17-b90b-167d17e073be"
      },
      "execution_count": 16,
      "outputs": [
        {
          "output_type": "stream",
          "name": "stdout",
          "text": [
            "Precio óptimo: 6.73\n"
          ]
        }
      ]
    },
    {
      "cell_type": "code",
      "source": [
        "# Graficar beneficio vs precio\n",
        "precios = np.linspace(2, 10, 100)\n",
        "beneficios = [-beneficio(p, elast_var) for p in precios]\n",
        "\n",
        "plt.plot(precios, beneficios)\n",
        "plt.scatter(precio_optimo, -beneficio(precio_optimo, elast_var), color='red', label=f'Precio óptimo: {precio_optimo:.2f}')\n",
        "plt.xlabel('Precio')\n",
        "plt.ylabel('Beneficio = Ingresos - costos')\n",
        "plt.title('Beneficio vs Precio')\n",
        "plt.show()"
      ],
      "metadata": {
        "colab": {
          "base_uri": "https://localhost:8080/",
          "height": 472
        },
        "id": "KoJZhaMebdqu",
        "outputId": "a81cf220-e946-44ab-b889-322494efa4b3"
      },
      "execution_count": 17,
      "outputs": [
        {
          "output_type": "display_data",
          "data": {
            "text/plain": [
              "<Figure size 640x480 with 1 Axes>"
            ],
            "image/png": "[encoded data removed]"
          },
          "metadata": {}
        }
      ]
    },
    {
      "cell_type": "markdown",
      "source": [
        "### Demanda Logaritmica"
      ],
      "metadata": {
        "id": "xm-2Sru7eBcH"
      }
    },
    {
      "cell_type": "code",
      "source": [
        "# Definir la función de beneficio para demanda logarítmica\n",
        "def beneficio(precio, elast_cte, costo_unitario=2):\n",
        "    # Predecir el logaritmo de la cantidad utilizando el modelo de elasticidad\n",
        "    log_cantidad_predicha = elast_cte.predict({'precio': [precio], 'dia_semana': ['Monday']})\n",
        "\n",
        "    # Transformar la predicción logarítmica a la cantidad original\n",
        "    cantidad_predicha = np.exp(log_cantidad_predicha)\n",
        "\n",
        "    # Calcular el beneficio\n",
        "    beneficio = (precio - costo_unitario) * cantidad_predicha\n",
        "    return -np.sum(beneficio)  # Negativo porque estamos minimizando"
      ],
      "metadata": {
        "id": "WKV7tATvfMP_"
      },
      "execution_count": 18,
      "outputs": []
    },
    {
      "cell_type": "code",
      "source": [
        "# Usar scipy para encontrar el precio óptimo\n",
        "resultado = minimize(lambda x: beneficio(x, elast_cte), x0=[5.73], bounds=[(2, 10)])\n",
        "precio_optimo = resultado.x[0]\n",
        "# Imprimir resultados\n",
        "print(f\"Precio óptimo: {precio_optimo:.2f}\")"
      ],
      "metadata": {
        "colab": {
          "base_uri": "https://localhost:8080/"
        },
        "id": "gyEn7s9DfN_X",
        "outputId": "e69daed6-a5e6-415b-dd6f-0352041744cb"
      },
      "execution_count": 19,
      "outputs": [
        {
          "output_type": "stream",
          "name": "stdout",
          "text": [
            "Precio óptimo: 6.04\n"
          ]
        }
      ]
    },
    {
      "cell_type": "code",
      "source": [
        "# Graficar beneficio vs precio\n",
        "precios = np.linspace(2, 10, 100)\n",
        "beneficios = [-beneficio(p, elast_cte) for p in precios]\n",
        "plt.plot(precios, beneficios)\n",
        "plt.scatter(precio_optimo, -beneficio(precio_optimo, elast_cte), color='red', label=f'Precio óptimo: {precio_optimo:.2f}')\n",
        "plt.xlabel('Precio')\n",
        "plt.ylabel('Beneficio')\n",
        "plt.title('Beneficio vs Precio')\n",
        "plt.show()"
      ],
      "metadata": {
        "colab": {
          "base_uri": "https://localhost:8080/",
          "height": 472
        },
        "id": "nsEztSRyeDhe",
        "outputId": "4f9dc931-f67a-4af4-b022-df3812e80b25"
      },
      "execution_count": 20,
      "outputs": [
        {
          "output_type": "display_data",
          "data": {
            "text/plain": [
              "<Figure size 640x480 with 1 Axes>"
            ],
            "image/png": "[encoded data removed]"
          },
          "metadata": {}
        }
      ]
    },
    {
      "cell_type": "markdown",
      "source": [
        "### Planificacion"
      ],
      "metadata": {
        "id": "_VMYorh0kbm0"
      }
    },
    {
      "cell_type": "code",
      "source": [
        "def generar_new_data(data, dias_futuros):\n",
        "    last_date = data['fecha'].max()  # Última fecha en el DataFrame original\n",
        "    future_dates = pd.date_range(start=last_date + pd.Timedelta(days=1), periods=dias_futuros, freq='D')\n",
        "\n",
        "    # Crear un DataFrame con estas fechas y asignar el día de la semana\n",
        "    new_data = pd.DataFrame(future_dates, columns=['fecha'])\n",
        "    new_data['dia_semana'] = new_data['fecha'].dt.day_name()\n",
        "\n",
        "    return new_data"
      ],
      "metadata": {
        "id": "fMaTIhkEjLHb"
      },
      "execution_count": 21,
      "outputs": []
    },
    {
      "cell_type": "code",
      "source": [
        "generar_new_data(data, 5)"
      ],
      "metadata": {
        "colab": {
          "base_uri": "https://localhost:8080/",
          "height": 206
        },
        "id": "ZMpNRlsWyPyb",
        "outputId": "c30abaf2-3426-4461-9e97-0e201678b616"
      },
      "execution_count": 22,
      "outputs": [
        {
          "output_type": "execute_result",
          "data": {
            "text/plain": [
              "       fecha dia_semana\n",
              "0 2019-07-29     Monday\n",
              "1 2019-07-30    Tuesday\n",
              "2 2019-07-31  Wednesday\n",
              "3 2019-08-01   Thursday\n",
              "4 2019-08-02     Friday"
            ],
            "text/html": [
              "\n",
              "  <div id=\"df-3927bceb-f0cc-4268-b86c-8ca6f0e4edf2\" class=\"colab-df-container\">\n",
              "    <div>\n",
              "<style scoped>\n",
              "    .dataframe tbody tr th:only-of-type {\n",
              "        vertical-align: middle;\n",
              "    }\n",
              "\n",
              "    .dataframe tbody tr th {\n",
              "        vertical-align: top;\n",
              "    }\n",
              "\n",
              "    .dataframe thead th {\n",
              "        text-align: right;\n",
              "    }\n",
              "</style>\n",
              "<table border=\"1\" class=\"dataframe\">\n",
              "  <thead>\n",
              "    <tr style=\"text-align: right;\">\n",
              "      <th></th>\n",
              "      <th>fecha</th>\n",
              "      <th>dia_semana</th>\n",
              "    </tr>\n",
              "  </thead>\n",
              "  <tbody>\n",
              "    <tr>\n",
              "      <th>0</th>\n",
              "      <td>2019-07-29</td>\n",
              "      <td>Monday</td>\n",
              "    </tr>\n",
              "    <tr>\n",
              "      <th>1</th>\n",
              "      <td>2019-07-30</td>\n",
              "      <td>Tuesday</td>\n",
              "    </tr>\n",
              "    <tr>\n",
              "      <th>2</th>\n",
              "      <td>2019-07-31</td>\n",
              "      <td>Wednesday</td>\n",
              "    </tr>\n",
              "    <tr>\n",
              "      <th>3</th>\n",
              "      <td>2019-08-01</td>\n",
              "      <td>Thursday</td>\n",
              "    </tr>\n",
              "    <tr>\n",
              "      <th>4</th>\n",
              "      <td>2019-08-02</td>\n",
              "      <td>Friday</td>\n",
              "    </tr>\n",
              "  </tbody>\n",
              "</table>\n",
              "</div>\n",
              "    <div class=\"colab-df-buttons\">\n",
              "\n",
              "  <div class=\"colab-df-container\">\n",
              "    <button class=\"colab-df-convert\" onclick=\"convertToInteractive('df-3927bceb-f0cc-4268-b86c-8ca6f0e4edf2')\"\n",
              "            title=\"Convert this dataframe to an interactive table.\"\n",
              "            style=\"display:none;\">\n",
              "\n",
              "  <svg xmlns=\"http://www.w3.org/2000/svg\" height=\"24px\" viewBox=\"0 -960 960 960\">\n",
              "    <path d=\"M120-120v-720h720v720H120Zm60-500h600v-160H180v160Zm220 220h160v-160H400v160Zm0 220h160v-160H400v160ZM180-400h160v-160H180v160Zm440 0h160v-160H620v160ZM180-180h160v-160H180v160Zm440 0h160v-160H620v160Z\"/>\n",
              "  </svg>\n",
              "    </button>\n",
              "\n",
              "  <style>\n",
              "    .colab-df-container {\n",
              "      display:flex;\n",
              "      gap: 12px;\n",
              "    }\n",
              "\n",
              "    .colab-df-convert {\n",
              "      background-color: #E8F0FE;\n",
              "      border: none;\n",
              "      border-radius: 50%;\n",
              "      cursor: pointer;\n",
              "      display: none;\n",
              "      fill: #1967D2;\n",
              "      height: 32px;\n",
              "      padding: 0 0 0 0;\n",
              "      width: 32px;\n",
              "    }\n",
              "\n",
              "    .colab-df-convert:hover {\n",
              "      background-color: #E2EBFA;\n",
              "      box-shadow: 0px 1px 2px rgba(60, 64, 67, 0.3), 0px 1px 3px 1px rgba(60, 64, 67, 0.15);\n",
              "      fill: #174EA6;\n",
              "    }\n",
              "\n",
              "    .colab-df-buttons div {\n",
              "      margin-bottom: 4px;\n",
              "    }\n",
              "\n",
              "    [theme=dark] .colab-df-convert {\n",
              "      background-color: #3B4455;\n",
              "      fill: #D2E3FC;\n",
              "    }\n",
              "\n",
              "    [theme=dark] .colab-df-convert:hover {\n",
              "      background-color: #434B5C;\n",
              "      box-shadow: 0px 1px 3px 1px rgba(0, 0, 0, 0.15);\n",
              "      filter: drop-shadow(0px 1px 2px rgba(0, 0, 0, 0.3));\n",
              "      fill: #FFFFFF;\n",
              "    }\n",
              "  </style>\n",
              "\n",
              "    <script>\n",
              "      const buttonEl =\n",
              "        document.querySelector('#df-3927bceb-f0cc-4268-b86c-8ca6f0e4edf2 button.colab-df-convert');\n",
              "      buttonEl.style.display =\n",
              "        google.colab.kernel.accessAllowed ? 'block' : 'none';\n",
              "\n",
              "      async function convertToInteractive(key) {\n",
              "        const element = document.querySelector('#df-3927bceb-f0cc-4268-b86c-8ca6f0e4edf2');\n",
              "        const dataTable =\n",
              "          await google.colab.kernel.invokeFunction('convertToInteractive',\n",
              "                                                    [key], {});\n",
              "        if (!dataTable) return;\n",
              "\n",
              "        const docLinkHtml = 'Like what you see? Visit the ' +\n",
              "          '<a target=\"_blank\" href=https://colab.research.google.com/notebooks/data_table.ipynb>data table notebook</a>'\n",
              "          + ' to learn more about interactive tables.';\n",
              "        element.innerHTML = '';\n",
              "        dataTable['output_type'] = 'display_data';\n",
              "        await google.colab.output.renderOutput(dataTable, element);\n",
              "        const docLink = document.createElement('div');\n",
              "        docLink.innerHTML = docLinkHtml;\n",
              "        element.appendChild(docLink);\n",
              "      }\n",
              "    </script>\n",
              "  </div>\n",
              "\n",
              "\n",
              "<div id=\"df-009cba39-1ae1-4096-b177-6aa024d3c11c\">\n",
              "  <button class=\"colab-df-quickchart\" onclick=\"quickchart('df-009cba39-1ae1-4096-b177-6aa024d3c11c')\"\n",
              "            title=\"Suggest charts\"\n",
              "            style=\"display:none;\">\n",
              "\n",
              "<svg xmlns=\"http://www.w3.org/2000/svg\" height=\"24px\"viewBox=\"0 0 24 24\"\n",
              "     width=\"24px\">\n",
              "    <g>\n",
              "        <path d=\"M19 3H5c-1.1 0-2 .9-2 2v14c0 1.1.9 2 2 2h14c1.1 0 2-.9 2-2V5c0-1.1-.9-2-2-2zM9 17H7v-7h2v7zm4 0h-2V7h2v10zm4 0h-2v-4h2v4z\"/>\n",
              "    </g>\n",
              "</svg>\n",
              "  </button>\n",
              "\n",
              "<style>\n",
              "  .colab-df-quickchart {\n",
              "      --bg-color: #E8F0FE;\n",
              "      --fill-color: #1967D2;\n",
              "      --hover-bg-color: #E2EBFA;\n",
              "      --hover-fill-color: #174EA6;\n",
              "      --disabled-fill-color: #AAA;\n",
              "      --disabled-bg-color: #DDD;\n",
              "  }\n",
              "\n",
              "  [theme=dark] .colab-df-quickchart {\n",
              "      --bg-color: #3B4455;\n",
              "      --fill-color: #D2E3FC;\n",
              "      --hover-bg-color: #434B5C;\n",
              "      --hover-fill-color: #FFFFFF;\n",
              "      --disabled-bg-color: #3B4455;\n",
              "      --disabled-fill-color: #666;\n",
              "  }\n",
              "\n",
              "  .colab-df-quickchart {\n",
              "    background-color: var(--bg-color);\n",
              "    border: none;\n",
              "    border-radius: 50%;\n",
              "    cursor: pointer;\n",
              "    display: none;\n",
              "    fill: var(--fill-color);\n",
              "    height: 32px;\n",
              "    padding: 0;\n",
              "    width: 32px;\n",
              "  }\n",
              "\n",
              "  .colab-df-quickchart:hover {\n",
              "    background-color: var(--hover-bg-color);\n",
              "    box-shadow: 0 1px 2px rgba(60, 64, 67, 0.3), 0 1px 3px 1px rgba(60, 64, 67, 0.15);\n",
              "    fill: var(--button-hover-fill-color);\n",
              "  }\n",
              "\n",
              "  .colab-df-quickchart-complete:disabled,\n",
              "  .colab-df-quickchart-complete:disabled:hover {\n",
              "    background-color: var(--disabled-bg-color);\n",
              "    fill: var(--disabled-fill-color);\n",
              "    box-shadow: none;\n",
              "  }\n",
              "\n",
              "  .colab-df-spinner {\n",
              "    border: 2px solid var(--fill-color);\n",
              "    border-color: transparent;\n",
              "    border-bottom-color: var(--fill-color);\n",
              "    animation:\n",
              "      spin 1s steps(1) infinite;\n",
              "  }\n",
              "\n",
              "  @keyframes spin {\n",
              "    0% {\n",
              "      border-color: transparent;\n",
              "      border-bottom-color: var(--fill-color);\n",
              "      border-left-color: var(--fill-color);\n",
              "    }\n",
              "    20% {\n",
              "      border-color: transparent;\n",
              "      border-left-color: var(--fill-color);\n",
              "      border-top-color: var(--fill-color);\n",
              "    }\n",
              "    30% {\n",
              "      border-color: transparent;\n",
              "      border-left-color: var(--fill-color);\n",
              "      border-top-color: var(--fill-color);\n",
              "      border-right-color: var(--fill-color);\n",
              "    }\n",
              "    40% {\n",
              "      border-color: transparent;\n",
              "      border-right-color: var(--fill-color);\n",
              "      border-top-color: var(--fill-color);\n",
              "    }\n",
              "    60% {\n",
              "      border-color: transparent;\n",
              "      border-right-color: var(--fill-color);\n",
              "    }\n",
              "    80% {\n",
              "      border-color: transparent;\n",
              "      border-right-color: var(--fill-color);\n",
              "      border-bottom-color: var(--fill-color);\n",
              "    }\n",
              "    90% {\n",
              "      border-color: transparent;\n",
              "      border-bottom-color: var(--fill-color);\n",
              "    }\n",
              "  }\n",
              "</style>\n",
              "\n",
              "  <script>\n",
              "    async function quickchart(key) {\n",
              "      const quickchartButtonEl =\n",
              "        document.querySelector('#' + key + ' button');\n",
              "      quickchartButtonEl.disabled = true;  // To prevent multiple clicks.\n",
              "      quickchartButtonEl.classList.add('colab-df-spinner');\n",
              "      try {\n",
              "        const charts = await google.colab.kernel.invokeFunction(\n",
              "            'suggestCharts', [key], {});\n",
              "      } catch (error) {\n",
              "        console.error('Error during call to suggestCharts:', error);\n",
              "      }\n",
              "      quickchartButtonEl.classList.remove('colab-df-spinner');\n",
              "      quickchartButtonEl.classList.add('colab-df-quickchart-complete');\n",
              "    }\n",
              "    (() => {\n",
              "      let quickchartButtonEl =\n",
              "        document.querySelector('#df-009cba39-1ae1-4096-b177-6aa024d3c11c button');\n",
              "      quickchartButtonEl.style.display =\n",
              "        google.colab.kernel.accessAllowed ? 'block' : 'none';\n",
              "    })();\n",
              "  </script>\n",
              "</div>\n",
              "\n",
              "    </div>\n",
              "  </div>\n"
            ],
            "application/vnd.google.colaboratory.intrinsic+json": {
              "type": "dataframe",
              "summary": "{\n  \"name\": \"generar_new_data(data, 5)\",\n  \"rows\": 5,\n  \"fields\": [\n    {\n      \"column\": \"fecha\",\n      \"properties\": {\n        \"dtype\": \"date\",\n        \"min\": \"2019-07-29 00:00:00\",\n        \"max\": \"2019-08-02 00:00:00\",\n        \"num_unique_values\": 5,\n        \"samples\": [\n          \"2019-07-30 00:00:00\",\n          \"2019-08-02 00:00:00\",\n          \"2019-07-31 00:00:00\"\n        ],\n        \"semantic_type\": \"\",\n        \"description\": \"\"\n      }\n    },\n    {\n      \"column\": \"dia_semana\",\n      \"properties\": {\n        \"dtype\": \"string\",\n        \"num_unique_values\": 5,\n        \"samples\": [\n          \"Tuesday\",\n          \"Friday\",\n          \"Wednesday\"\n        ],\n        \"semantic_type\": \"\",\n        \"description\": \"\"\n      }\n    }\n  ]\n}"
            }
          },
          "metadata": {},
          "execution_count": 22
        }
      ]
    },
    {
      "cell_type": "markdown",
      "source": [
        "¿Cuales son los precios optimos?"
      ],
      "metadata": {
        "id": "RccFIi-DnzoU"
      }
    },
    {
      "cell_type": "markdown",
      "source": [
        "- Precio de compra = 3.7\n",
        "- Precio de compra = 3.2\n",
        "- Precio de compra = 2.5"
      ],
      "metadata": {
        "id": "Z6nnc5YfoBRE"
      }
    },
    {
      "cell_type": "code",
      "source": [
        "escenarios = {'PrecioCompra1':3.7,'PrecioCompra2':3.2,'PrecioCompra3':2.5}"
      ],
      "metadata": {
        "id": "UUoFLWw6oQ9s"
      },
      "execution_count": 23,
      "outputs": []
    },
    {
      "cell_type": "code",
      "source": [
        "escenarios.items()"
      ],
      "metadata": {
        "colab": {
          "base_uri": "https://localhost:8080/"
        },
        "id": "t-RPhCqdylNk",
        "outputId": "39c44a5b-8802-4f0d-af49-1f5e37ee1e7d"
      },
      "execution_count": 24,
      "outputs": [
        {
          "output_type": "execute_result",
          "data": {
            "text/plain": [
              "dict_items([('PrecioCompra1', 3.7), ('PrecioCompra2', 3.2), ('PrecioCompra3', 2.5)])"
            ]
          },
          "metadata": {},
          "execution_count": 24
        }
      ]
    },
    {
      "cell_type": "code",
      "source": [
        "for name,costo_u in escenarios.items():\n",
        "  resultado = minimize(lambda x: beneficio(x, elast_cte,costo_unitario=costo_u), x0=[5.73], bounds=[(2, 20)])\n",
        "  precio_optimo = resultado.x[0]\n",
        "  # Imprimir resultados\n",
        "  print(\"-\"*20)\n",
        "  print(f\"{name}\\nCosto unitario: {costo_u:.2f}\\nPrecio de venta óptimo: {precio_optimo:.2f}\")"
      ],
      "metadata": {
        "colab": {
          "base_uri": "https://localhost:8080/"
        },
        "id": "s2gGQxG6nxns",
        "outputId": "ee5653cb-ca99-462b-8c2b-c997915251e4"
      },
      "execution_count": 25,
      "outputs": [
        {
          "output_type": "stream",
          "name": "stdout",
          "text": [
            "--------------------\n",
            "PrecioCompra1\n",
            "Costo unitario: 3.70\n",
            "Precio de venta óptimo: 11.18\n",
            "--------------------\n",
            "PrecioCompra2\n",
            "Costo unitario: 3.20\n",
            "Precio de venta óptimo: 9.67\n",
            "--------------------\n",
            "PrecioCompra3\n",
            "Costo unitario: 2.50\n",
            "Precio de venta óptimo: 7.55\n"
          ]
        }
      ]
    },
    {
      "cell_type": "markdown",
      "source": [
        "### Detalle de escenarios"
      ],
      "metadata": {
        "id": "Y683J5e4pi_F"
      }
    },
    {
      "cell_type": "code",
      "source": [
        "futuro = generar_new_data(data,30)\n",
        "futuro.head()"
      ],
      "metadata": {
        "colab": {
          "base_uri": "https://localhost:8080/",
          "height": 206
        },
        "id": "fwM4rZNkpkr_",
        "outputId": "9997c6f2-9e75-405b-c700-d4193193a841"
      },
      "execution_count": 26,
      "outputs": [
        {
          "output_type": "execute_result",
          "data": {
            "text/plain": [
              "       fecha dia_semana\n",
              "0 2019-07-29     Monday\n",
              "1 2019-07-30    Tuesday\n",
              "2 2019-07-31  Wednesday\n",
              "3 2019-08-01   Thursday\n",
              "4 2019-08-02     Friday"
            ],
            "text/html": [
              "\n",
              "  <div id=\"df-5ecc2d90-3c69-4066-a3b3-16d3ff24ae3b\" class=\"colab-df-container\">\n",
              "    <div>\n",
              "<style scoped>\n",
              "    .dataframe tbody tr th:only-of-type {\n",
              "        vertical-align: middle;\n",
              "    }\n",
              "\n",
              "    .dataframe tbody tr th {\n",
              "        vertical-align: top;\n",
              "    }\n",
              "\n",
              "    .dataframe thead th {\n",
              "        text-align: right;\n",
              "    }\n",
              "</style>\n",
              "<table border=\"1\" class=\"dataframe\">\n",
              "  <thead>\n",
              "    <tr style=\"text-align: right;\">\n",
              "      <th></th>\n",
              "      <th>fecha</th>\n",
              "      <th>dia_semana</th>\n",
              "    </tr>\n",
              "  </thead>\n",
              "  <tbody>\n",
              "    <tr>\n",
              "      <th>0</th>\n",
              "      <td>2019-07-29</td>\n",
              "      <td>Monday</td>\n",
              "    </tr>\n",
              "    <tr>\n",
              "      <th>1</th>\n",
              "      <td>2019-07-30</td>\n",
              "      <td>Tuesday</td>\n",
              "    </tr>\n",
              "    <tr>\n",
              "      <th>2</th>\n",
              "      <td>2019-07-31</td>\n",
              "      <td>Wednesday</td>\n",
              "    </tr>\n",
              "    <tr>\n",
              "      <th>3</th>\n",
              "      <td>2019-08-01</td>\n",
              "      <td>Thursday</td>\n",
              "    </tr>\n",
              "    <tr>\n",
              "      <th>4</th>\n",
              "      <td>2019-08-02</td>\n",
              "      <td>Friday</td>\n",
              "    </tr>\n",
              "  </tbody>\n",
              "</table>\n",
              "</div>\n",
              "    <div class=\"colab-df-buttons\">\n",
              "\n",
              "  <div class=\"colab-df-container\">\n",
              "    <button class=\"colab-df-convert\" onclick=\"convertToInteractive('df-5ecc2d90-3c69-4066-a3b3-16d3ff24ae3b')\"\n",
              "            title=\"Convert this dataframe to an interactive table.\"\n",
              "            style=\"display:none;\">\n",
              "\n",
              "  <svg xmlns=\"http://www.w3.org/2000/svg\" height=\"24px\" viewBox=\"0 -960 960 960\">\n",
              "    <path d=\"M120-120v-720h720v720H120Zm60-500h600v-160H180v160Zm220 220h160v-160H400v160Zm0 220h160v-160H400v160ZM180-400h160v-160H180v160Zm440 0h160v-160H620v160ZM180-180h160v-160H180v160Zm440 0h160v-160H620v160Z\"/>\n",
              "  </svg>\n",
              "    </button>\n",
              "\n",
              "  <style>\n",
              "    .colab-df-container {\n",
              "      display:flex;\n",
              "      gap: 12px;\n",
              "    }\n",
              "\n",
              "    .colab-df-convert {\n",
              "      background-color: #E8F0FE;\n",
              "      border: none;\n",
              "      border-radius: 50%;\n",
              "      cursor: pointer;\n",
              "      display: none;\n",
              "      fill: #1967D2;\n",
              "      height: 32px;\n",
              "      padding: 0 0 0 0;\n",
              "      width: 32px;\n",
              "    }\n",
              "\n",
              "    .colab-df-convert:hover {\n",
              "      background-color: #E2EBFA;\n",
              "      box-shadow: 0px 1px 2px rgba(60, 64, 67, 0.3), 0px 1px 3px 1px rgba(60, 64, 67, 0.15);\n",
              "      fill: #174EA6;\n",
              "    }\n",
              "\n",
              "    .colab-df-buttons div {\n",
              "      margin-bottom: 4px;\n",
              "    }\n",
              "\n",
              "    [theme=dark] .colab-df-convert {\n",
              "      background-color: #3B4455;\n",
              "      fill: #D2E3FC;\n",
              "    }\n",
              "\n",
              "    [theme=dark] .colab-df-convert:hover {\n",
              "      background-color: #434B5C;\n",
              "      box-shadow: 0px 1px 3px 1px rgba(0, 0, 0, 0.15);\n",
              "      filter: drop-shadow(0px 1px 2px rgba(0, 0, 0, 0.3));\n",
              "      fill: #FFFFFF;\n",
              "    }\n",
              "  </style>\n",
              "\n",
              "    <script>\n",
              "      const buttonEl =\n",
              "        document.querySelector('#df-5ecc2d90-3c69-4066-a3b3-16d3ff24ae3b button.colab-df-convert');\n",
              "      buttonEl.style.display =\n",
              "        google.colab.kernel.accessAllowed ? 'block' : 'none';\n",
              "\n",
              "      async function convertToInteractive(key) {\n",
              "        const element = document.querySelector('#df-5ecc2d90-3c69-4066-a3b3-16d3ff24ae3b');\n",
              "        const dataTable =\n",
              "          await google.colab.kernel.invokeFunction('convertToInteractive',\n",
              "                                                    [key], {});\n",
              "        if (!dataTable) return;\n",
              "\n",
              "        const docLinkHtml = 'Like what you see? Visit the ' +\n",
              "          '<a target=\"_blank\" href=https://colab.research.google.com/notebooks/data_table.ipynb>data table notebook</a>'\n",
              "          + ' to learn more about interactive tables.';\n",
              "        element.innerHTML = '';\n",
              "        dataTable['output_type'] = 'display_data';\n",
              "        await google.colab.output.renderOutput(dataTable, element);\n",
              "        const docLink = document.createElement('div');\n",
              "        docLink.innerHTML = docLinkHtml;\n",
              "        element.appendChild(docLink);\n",
              "      }\n",
              "    </script>\n",
              "  </div>\n",
              "\n",
              "\n",
              "<div id=\"df-9e9eb274-d47b-4fec-95f7-1d55c29e18a0\">\n",
              "  <button class=\"colab-df-quickchart\" onclick=\"quickchart('df-9e9eb274-d47b-4fec-95f7-1d55c29e18a0')\"\n",
              "            title=\"Suggest charts\"\n",
              "            style=\"display:none;\">\n",
              "\n",
              "<svg xmlns=\"http://www.w3.org/2000/svg\" height=\"24px\"viewBox=\"0 0 24 24\"\n",
              "     width=\"24px\">\n",
              "    <g>\n",
              "        <path d=\"M19 3H5c-1.1 0-2 .9-2 2v14c0 1.1.9 2 2 2h14c1.1 0 2-.9 2-2V5c0-1.1-.9-2-2-2zM9 17H7v-7h2v7zm4 0h-2V7h2v10zm4 0h-2v-4h2v4z\"/>\n",
              "    </g>\n",
              "</svg>\n",
              "  </button>\n",
              "\n",
              "<style>\n",
              "  .colab-df-quickchart {\n",
              "      --bg-color: #E8F0FE;\n",
              "      --fill-color: #1967D2;\n",
              "      --hover-bg-color: #E2EBFA;\n",
              "      --hover-fill-color: #174EA6;\n",
              "      --disabled-fill-color: #AAA;\n",
              "      --disabled-bg-color: #DDD;\n",
              "  }\n",
              "\n",
              "  [theme=dark] .colab-df-quickchart {\n",
              "      --bg-color: #3B4455;\n",
              "      --fill-color: #D2E3FC;\n",
              "      --hover-bg-color: #434B5C;\n",
              "      --hover-fill-color: #FFFFFF;\n",
              "      --disabled-bg-color: #3B4455;\n",
              "      --disabled-fill-color: #666;\n",
              "  }\n",
              "\n",
              "  .colab-df-quickchart {\n",
              "    background-color: var(--bg-color);\n",
              "    border: none;\n",
              "    border-radius: 50%;\n",
              "    cursor: pointer;\n",
              "    display: none;\n",
              "    fill: var(--fill-color);\n",
              "    height: 32px;\n",
              "    padding: 0;\n",
              "    width: 32px;\n",
              "  }\n",
              "\n",
              "  .colab-df-quickchart:hover {\n",
              "    background-color: var(--hover-bg-color);\n",
              "    box-shadow: 0 1px 2px rgba(60, 64, 67, 0.3), 0 1px 3px 1px rgba(60, 64, 67, 0.15);\n",
              "    fill: var(--button-hover-fill-color);\n",
              "  }\n",
              "\n",
              "  .colab-df-quickchart-complete:disabled,\n",
              "  .colab-df-quickchart-complete:disabled:hover {\n",
              "    background-color: var(--disabled-bg-color);\n",
              "    fill: var(--disabled-fill-color);\n",
              "    box-shadow: none;\n",
              "  }\n",
              "\n",
              "  .colab-df-spinner {\n",
              "    border: 2px solid var(--fill-color);\n",
              "    border-color: transparent;\n",
              "    border-bottom-color: var(--fill-color);\n",
              "    animation:\n",
              "      spin 1s steps(1) infinite;\n",
              "  }\n",
              "\n",
              "  @keyframes spin {\n",
              "    0% {\n",
              "      border-color: transparent;\n",
              "      border-bottom-color: var(--fill-color);\n",
              "      border-left-color: var(--fill-color);\n",
              "    }\n",
              "    20% {\n",
              "      border-color: transparent;\n",
              "      border-left-color: var(--fill-color);\n",
              "      border-top-color: var(--fill-color);\n",
              "    }\n",
              "    30% {\n",
              "      border-color: transparent;\n",
              "      border-left-color: var(--fill-color);\n",
              "      border-top-color: var(--fill-color);\n",
              "      border-right-color: var(--fill-color);\n",
              "    }\n",
              "    40% {\n",
              "      border-color: transparent;\n",
              "      border-right-color: var(--fill-color);\n",
              "      border-top-color: var(--fill-color);\n",
              "    }\n",
              "    60% {\n",
              "      border-color: transparent;\n",
              "      border-right-color: var(--fill-color);\n",
              "    }\n",
              "    80% {\n",
              "      border-color: transparent;\n",
              "      border-right-color: var(--fill-color);\n",
              "      border-bottom-color: var(--fill-color);\n",
              "    }\n",
              "    90% {\n",
              "      border-color: transparent;\n",
              "      border-bottom-color: var(--fill-color);\n",
              "    }\n",
              "  }\n",
              "</style>\n",
              "\n",
              "  <script>\n",
              "    async function quickchart(key) {\n",
              "      const quickchartButtonEl =\n",
              "        document.querySelector('#' + key + ' button');\n",
              "      quickchartButtonEl.disabled = true;  // To prevent multiple clicks.\n",
              "      quickchartButtonEl.classList.add('colab-df-spinner');\n",
              "      try {\n",
              "        const charts = await google.colab.kernel.invokeFunction(\n",
              "            'suggestCharts', [key], {});\n",
              "      } catch (error) {\n",
              "        console.error('Error during call to suggestCharts:', error);\n",
              "      }\n",
              "      quickchartButtonEl.classList.remove('colab-df-spinner');\n",
              "      quickchartButtonEl.classList.add('colab-df-quickchart-complete');\n",
              "    }\n",
              "    (() => {\n",
              "      let quickchartButtonEl =\n",
              "        document.querySelector('#df-9e9eb274-d47b-4fec-95f7-1d55c29e18a0 button');\n",
              "      quickchartButtonEl.style.display =\n",
              "        google.colab.kernel.accessAllowed ? 'block' : 'none';\n",
              "    })();\n",
              "  </script>\n",
              "</div>\n",
              "\n",
              "    </div>\n",
              "  </div>\n"
            ],
            "application/vnd.google.colaboratory.intrinsic+json": {
              "type": "dataframe",
              "variable_name": "futuro",
              "summary": "{\n  \"name\": \"futuro\",\n  \"rows\": 30,\n  \"fields\": [\n    {\n      \"column\": \"fecha\",\n      \"properties\": {\n        \"dtype\": \"date\",\n        \"min\": \"2019-07-29 00:00:00\",\n        \"max\": \"2019-08-27 00:00:00\",\n        \"num_unique_values\": 30,\n        \"samples\": [\n          \"2019-08-25 00:00:00\",\n          \"2019-08-13 00:00:00\",\n          \"2019-08-21 00:00:00\"\n        ],\n        \"semantic_type\": \"\",\n        \"description\": \"\"\n      }\n    },\n    {\n      \"column\": \"dia_semana\",\n      \"properties\": {\n        \"dtype\": \"category\",\n        \"num_unique_values\": 7,\n        \"samples\": [\n          \"Monday\",\n          \"Tuesday\",\n          \"Saturday\"\n        ],\n        \"semantic_type\": \"\",\n        \"description\": \"\"\n      }\n    }\n  ]\n}"
            }
          },
          "metadata": {},
          "execution_count": 26
        }
      ]
    },
    {
      "cell_type": "code",
      "source": [
        "for name,costo_u in escenarios.items():\n",
        "  resultado = minimize(lambda x: beneficio(x, elast_cte,costo_unitario=costo_u), x0=[5.73], bounds=[(2, 20)])\n",
        "  precio_optimo = resultado.x[0]\n",
        "\n",
        "  futuro['precio'] = precio_optimo\n",
        "  futuro[name+'cantidad'] = np.exp(elast_cte.predict(futuro))\n",
        "  q = futuro[name+'cantidad'].sum()\n",
        "  ing = precio_optimo*q\n",
        "  ben = q*(precio_optimo-costo_u)\n",
        "  #escenarios.update({name:futuro_})\n",
        "  # Imprimir resultados\n",
        "  print(\"-\"*20)\n",
        "  print(f\"{name}\\nCosto unitario: {costo_u:.2f}\\nPrecio de venta óptimo: {precio_optimo:.2f}\")\n",
        "  print(f\"Cantidad demandada: {q:.2f}\\nIngresos Totales: {ing:.2f}\\nBeneficios(*): {ben:.2f}\")"
      ],
      "metadata": {
        "colab": {
          "base_uri": "https://localhost:8080/"
        },
        "id": "t13rQMb2p47t",
        "outputId": "a2b0d282-9504-4698-c43c-220102951b6f"
      },
      "execution_count": 27,
      "outputs": [
        {
          "output_type": "stream",
          "name": "stdout",
          "text": [
            "--------------------\n",
            "PrecioCompra1\n",
            "Costo unitario: 3.70\n",
            "Precio de venta óptimo: 11.18\n",
            "Cantidad demandada: 4220.52\n",
            "Ingresos Totales: 47188.38\n",
            "Beneficios(*): 31572.46\n",
            "--------------------\n",
            "PrecioCompra2\n",
            "Costo unitario: 3.20\n",
            "Precio de venta óptimo: 9.67\n",
            "Cantidad demandada: 5243.27\n",
            "Ingresos Totales: 50701.46\n",
            "Beneficios(*): 33923.00\n",
            "--------------------\n",
            "PrecioCompra3\n",
            "Costo unitario: 2.50\n",
            "Precio de venta óptimo: 7.55\n",
            "Cantidad demandada: 7582.97\n",
            "Ingresos Totales: 57285.83\n",
            "Beneficios(*): 38328.41\n"
          ]
        }
      ]
    },
    {
      "cell_type": "markdown",
      "source": [
        "- Si se compran al menos 2,000 unidades, el precio unitario será de 3.7 soles.\n",
        "- Si se compran al menos 5,000 unidades, el precio unitario será de 3.2 soles.\n",
        "- Si se compran al menos 8,000 unidades, el precio unitario será de 2.5 soles.\n"
      ],
      "metadata": {
        "id": "ebtLEzNy1cpj"
      }
    },
    {
      "cell_type": "code",
      "source": [
        "# Graficar los resultados de cantidad para los tres escenarios\n",
        "ax = futuro.set_index('fecha')[['PrecioCompra1cantidad', 'PrecioCompra2cantidad', 'PrecioCompra3cantidad']].plot(figsize=(16,9))\n",
        "\n",
        "# Agregar título y etiquetas\n",
        "ax.set_title('Cantidad Vendida por Escenario', fontsize=14)\n",
        "ax.set_xlabel('Fecha', fontsize=12)\n",
        "ax.set_ylabel('Cantidad Vendida', fontsize=12)\n",
        "\n",
        "# Establecer el eje y para que comience en 0\n",
        "ax.set_ylim(bottom=0)\n",
        "\n",
        "# Agregar leyenda con etiquetas personalizadas para los escenarios\n",
        "ax.legend(['Escenario 1', 'Escenario 2', 'Escenario 3'])\n",
        "\n",
        "# Mostrar el gráfico\n",
        "plt.tight_layout()\n",
        "plt.show()"
      ],
      "metadata": {
        "colab": {
          "base_uri": "https://localhost:8080/",
          "height": 808
        },
        "id": "H6ZItWLisp3-",
        "outputId": "5e241018-fd25-433b-9f86-c786654cfd3c"
      },
      "execution_count": 28,
      "outputs": [
        {
          "output_type": "display_data",
          "data": {
            "text/plain": [
              "<Figure size 1600x900 with 1 Axes>"
            ],
            "image/png": "[encoded data removed]"
          },
          "metadata": {}
        }
      ]
    }
  ]
}